{
    "nbformat": 4,
    "nbformat_minor": 0,
    "metadata": {
        "colab": {
            "name": "Terroria",
            "provenance": [],
            "collapsed_sections": []
        },
        "kernelspec": {
            "name": "python3",
            "display_name": "Python 3"
        }
    },
    "cells": [
        {
            "cell_type": "markdown",
            "metadata": {
                "id": "aftheamtsmit2ahs"
            },
            "source": [
                "\n",
                "```\n",
                " _____                        _\n",       
                "|_   _|                      (_)\n",      
                "  | | ___ _ __ _ __ ___  _ __ _  __ _ \n",
                "  | |/ _ \\ '__| '__/ _ \\| '__| |/ _` |\n",
                "  | |  __/ |  | | | (_) | |  | | (_| |\n",
                "  \\_/\\___|_|  |_|  \\___/|_|  |_|\\__,_|\n",
                "\n",
                "```\n",
                "**A Terraria server to deploy on Google Colab**\n",
                "\n",
                "---\n",
                "\n",
                "This code needs two simple scripts. Running them in order will be enough for you to have a Terraria server running on Google Colab. Take into account that you might want to adjust the regions where the server is hosted. At the moment, the only supported service for deployment is ngrok. Clear instructions will be on the readme file.\n",
                "\n",
                "This is the first script. It will install the necessary dependencies and download the server files to your drive folder. It will also create the terraria session needed.\n"
            ]
        },
        {
            "cell_type": "code",
            "metadata": {
                "id": "zazaRJvZp1h6"
            },
            "source": [
                "import os\n",
                "import zipfile\n",
                "import shutil\n",
                "import requests\n",
                "from google.colab import drive\n",
                "\n",

                "# Mount Google Drive\n",
                "drive.mount('/content/drive')\n",
                "\n",

                "# Navigate to the directory containing the Terraria server\n",
                "server_dir = '/content/drive/My Drive/terraria-server'\n",
                "if not os.path.exists(server_dir):\n",
                "    os.makedirs(server_dir)\n",
                "%cd $server_dir\n",
                "\n",

                "# Download Terraria server files\n",
                "SERVER_URL = 'https://terraria.org/api/download/pc-dedicated-server/terraria-server-1449.zip'\n",
                "response = requests.get(SERVER_URL)\n",
                "\n",

                "# Downloads the file from the URL\n",
                "with open('terraria-server-1449.zip', 'wb') as file:\n",
                "    file.write(response.content)\n",
                "\n",

                "# Extract the files\n",
                "with zipfile.ZipFile('terraria-server-1449.zip', 'r') as zip_ref:\n",
                "    zip_ref.extractall('terraria-server-1449')\n",
                "\n",

                "# Navigate into the extracted directory\n",
                "os.chdir('terraria-server-1449/1449/Linux')  # Corrected working directory path\n",
                "\n",

                "# Add executable permissions to the server binary\n",
                "!chmod +x TerrariaServer.bin.x86_64\n",
                "\n",

                "# Move the server files to a folder in your Google Drive\n",
                "server_files_dir = '/content/drive/My Drive/terraria-server/terraria-server-1449'\n",
                "server_executable = 'TerrariaServer.bin.x86_64'\n",
                "destination_path = os.path.join(server_files_dir, server_executable)\n",
                "\n",

                "if not os.path.exists(destination_path):\n",
                "    shutil.move(server_executable, server_files_dir)\n",
                "\n",

                "#Install tmux and create the session\n",
                "!apt-get -qq install tmux\n",
                "!tmux new-session -d -s terraria './TerrariaServer.bin.x86_64 -port {server_port}' # Will create if not exists\n"
            ],
            "execution_count": null,
            "outputs": []
        },
        {
            "cell_type": "markdown",
            "metadata": {
                "id": "fn5ir8v1an3a"
            },
            "source": [
                "# Run the server\n",
                "\n",
                "This is the second script. It will run the server and create a tunnel to it using ngrok. You will need to create an account on ngrok and get your authtoken. You can find it on your ngrok dashboard.\n"
            ]
        },
        {
            "cell_type": "code",
            "metadata": {
                "id": "nvsbl1113"
            },
            "source": [
                "!pip install pyngrok\n",
                "import os\n",
                "from pyngrok import conf, ngrok\n",
                "\n",
                "# Navigate to the directory containing the Terraria server (if not already there)\n",
                "server_dir = '/content/drive/My Drive/terraria-server/terraria-server-1449/1449/Linux'\n",
                "os.chdir(server_dir)\n",
                "!chmod +x TerrariaServer.bin.x86_64\n",
                "\n",

                "# Add executable permissions to the server binary (if not already done)\n",
                "server_executable = 'TerrariaServer.bin.x86_64'\n",
                "server_executable_path = os.path.join(server_dir, server_executable)\n",
                "if not os.access(server_executable_path, os.X_OK):\n",
                "    !chmod +x {server_executable_path}\n",
                "\n",

                "# Authenticate ngrok with your authtoken\n",
                "authtoken = input('Enter your ngrok authtoken: ')  # Input your ngrok authtoken here\n",
                "!ngrok authtoken $authtoken\n",
                "\n",

                "# Sets default ngrok region\n",
                "conf.get_default().region = 'us'  # Change this to whichever region you want\n",
                "url = ngrok.connect(7777, 'tcp')\n",
                "print('This is your url:', url)\n",
                "\n",

                "# Launch the Terraria server using tmux (in the same cell)\n",
                "!tmux list-sessions\n",
                "!tmux attach-session -t terraria\n"
            ],
            "execution_count": null,
            "outputs": []
        },
        {
            "cell_type": "markdown",
            "metadata": {
                "id": "FO5S4OHVdV5O"
            },
            "source": [
                "# Special thanks\n",
                "Thanks to [thecoder-001](https://github.com/thecoder-001). They created the code for this to be run on Minecraft. I inspired a big part of their code to make mine into reality, and it served as a guide for me to understand how to make this work.\n"
            ]
        }
    ]
}
